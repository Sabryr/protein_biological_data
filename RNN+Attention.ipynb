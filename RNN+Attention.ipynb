{
 "cells": [
  {
   "cell_type": "code",
   "execution_count": 1,
   "id": "11fcfde6",
   "metadata": {},
   "outputs": [
    {
     "name": "stderr",
     "output_type": "stream",
     "text": [
      "2023-01-15 16:18:47.917152: I tensorflow/core/platform/cpu_feature_guard.cc:193] This TensorFlow binary is optimized with oneAPI Deep Neural Network Library (oneDNN) to use the following CPU instructions in performance-critical operations:  AVX2 FMA\n",
      "To enable them in other operations, rebuild TensorFlow with the appropriate compiler flags.\n",
      "2023-01-15 16:18:48.025875: E tensorflow/stream_executor/cuda/cuda_blas.cc:2981] Unable to register cuBLAS factory: Attempting to register factory for plugin cuBLAS when one has already been registered\n",
      "2023-01-15 16:18:48.965422: W tensorflow/stream_executor/platform/default/dso_loader.cc:64] Could not load dynamic library 'libnvinfer.so.7'; dlerror: libnvinfer.so.7: cannot open shared object file: No such file or directory\n",
      "2023-01-15 16:18:48.965479: W tensorflow/stream_executor/platform/default/dso_loader.cc:64] Could not load dynamic library 'libnvinfer_plugin.so.7'; dlerror: libnvinfer_plugin.so.7: cannot open shared object file: No such file or directory\n",
      "2023-01-15 16:18:48.965485: W tensorflow/compiler/tf2tensorrt/utils/py_utils.cc:38] TF-TRT Warning: Cannot dlopen some TensorRT libraries. If you would like to use Nvidia GPU with TensorRT, please make sure the missing libraries mentioned above are installed properly.\n"
     ]
    }
   ],
   "source": [
    "import pandas as pd\n",
    "from pandas import read_csv\n",
    "import numpy as np\n",
    "\n",
    "import tensorflow as tf\n",
    "import tensorflow.keras as keras\n",
    "from keras.layers import LSTM\n",
    "from keras.layers import Bidirectional\n",
    "from keras.layers import Dense, Flatten, ConvLSTM1D,ConvLSTM2D, MaxPooling2D\n",
    "from keras.layers import Dropout\n",
    "from keras import Model\n",
    "from keras.layers import Layer\n",
    "import keras.backend as K\n",
    "\n",
    "from keras.models import Sequential\n",
    "from keras.metrics import mean_squared_error\n",
    "from keras.layers import Input, Dense, SimpleRNN\n",
    "\n",
    "from sklearn.preprocessing import MinMaxScaler\n",
    "from sklearn.preprocessing import normalize\n",
    "from sklearn.feature_extraction.text import CountVectorizer\n",
    "from sklearn.model_selection import train_test_split\n",
    "\n",
    "import matplotlib.pyplot as plt"
   ]
  },
  {
   "cell_type": "code",
   "execution_count": 2,
   "id": "4ebb501f",
   "metadata": {},
   "outputs": [],
   "source": [
    "biological_data = pd.read_csv(\"biological_data.csv\").drop('Unnamed: 0', axis=1)"
   ]
  },
  {
   "cell_type": "code",
   "execution_count": 3,
   "id": "9d4954e8",
   "metadata": {},
   "outputs": [],
   "source": [
    "# function to convert sequence strings into k-mer words, default size = 6 (hexamer words)\n",
    "def getKmers(sequence, size=6):\n",
    "    return [sequence[x:x+size].lower() for x in range(len(sequence) - size + 1)]\n",
    "\n",
    "human_data = biological_data.copy()\n",
    "human_data['X2'] = human_data.apply(lambda x: getKmers(x['X2']), axis=1)\n",
    "human_data['X3'] = human_data.apply(lambda x: getKmers(x['X3']), axis=1)\n",
    "\n",
    "human_data_X2 = list(human_data['X2'])\n",
    "human_data_X3 = list(human_data['X3'])\n",
    "for item in range(len(human_data)):\n",
    "    human_data_X2[item] = ' '.join(human_data_X2[item])\n",
    "    human_data_X3[item] = ' '.join(human_data_X3[item])\n",
    "    \n",
    "y_data = human_data.iloc[:, 0].values \n",
    "\n",
    "# Creating the Bag of Words model using CountVectorizer()\n",
    "# This is equivalent to k-mer counting\n",
    "# The n-gram size of 4 was previously determined by testing\n",
    "\n",
    "cv = CountVectorizer(ngram_range=(4,4))\n",
    "X2 = cv.fit_transform(human_data_X2)\n",
    "X3 = cv.fit_transform(human_data_X3)\n",
    "\n",
    "X_train, X_test, y_train, y_test = train_test_split(X2.toarray(), y_data, test_size = 0.20, random_state=42)\n",
    "X_train = np.reshape(X_train, (X_train.shape[0], X_train.shape[1], 1))\n",
    "X_test = np.reshape(X_test, (X_test.shape[0], X_test.shape[1], 1))"
   ]
  },
  {
   "cell_type": "code",
   "execution_count": 6,
   "id": "9c2f735d",
   "metadata": {},
   "outputs": [],
   "source": [
    "# Set up parameters\n",
    "time_steps = 185\n",
    "hidden_units = 2\n",
    "epochs = 50\n",
    "\n",
    "# Create a traditional RNN network\n",
    "def create_RNN(hidden_units, dense_units, input_shape, activation):\n",
    "    model = Sequential()\n",
    "    model.add(SimpleRNN(hidden_units, input_shape=input_shape, activation=activation[0]))\n",
    "    model.add(Dense(units=dense_units, activation=activation[1]))\n",
    "    model.compile(loss='mse', optimizer='adam')\n",
    "    return model\n",
    "\n",
    "RNNmodel = create_RNN(hidden_units=hidden_units, dense_units=1, input_shape=(time_steps,1), \n",
    "                   activation=['tanh', 'tanh'])"
   ]
  },
  {
   "cell_type": "code",
   "execution_count": 8,
   "id": "059adbc0",
   "metadata": {},
   "outputs": [
    {
     "name": "stdout",
     "output_type": "stream",
     "text": [
      "Epoch 1/50\n",
      "   5/1596 [..............................] - ETA: 49s - loss: 250004944.0000"
     ]
    },
    {
     "name": "stderr",
     "output_type": "stream",
     "text": [
      "2023-01-15 16:19:21.580131: I tensorflow/stream_executor/cuda/cuda_blas.cc:1614] TensorFloat-32 will be used for the matrix multiplication. This will only be logged once.\n"
     ]
    },
    {
     "name": "stdout",
     "output_type": "stream",
     "text": [
      "1596/1596 [==============================] - 57s 35ms/step - loss: 98456200.0000 - val_loss: 98475280.0000\n",
      "Epoch 2/50\n",
      "1596/1596 [==============================] - 55s 35ms/step - loss: 98453128.0000 - val_loss: 98472528.0000\n",
      "Epoch 3/50\n",
      "1596/1596 [==============================] - 55s 35ms/step - loss: 98451320.0000 - val_loss: 98472184.0000\n",
      "Epoch 4/50\n",
      "1596/1596 [==============================] - 56s 35ms/step - loss: 98451232.0000 - val_loss: 98472120.0000\n",
      "Epoch 5/50\n",
      "1596/1596 [==============================] - 55s 35ms/step - loss: 98451272.0000 - val_loss: 98472088.0000\n",
      "Epoch 6/50\n",
      "1596/1596 [==============================] - 56s 35ms/step - loss: 98451120.0000 - val_loss: 98472032.0000\n",
      "Epoch 7/50\n",
      "1596/1596 [==============================] - 55s 35ms/step - loss: 98451032.0000 - val_loss: 98471984.0000\n",
      "Epoch 8/50\n",
      "1596/1596 [==============================] - 55s 35ms/step - loss: 98451176.0000 - val_loss: 98471968.0000\n",
      "Epoch 9/50\n",
      "1596/1596 [==============================] - 56s 35ms/step - loss: 98450984.0000 - val_loss: 98471968.0000\n",
      "Epoch 10/50\n",
      "1596/1596 [==============================] - 56s 35ms/step - loss: 98451104.0000 - val_loss: 98471968.0000\n",
      "Epoch 11/50\n",
      "1596/1596 [==============================] - 55s 35ms/step - loss: 98450984.0000 - val_loss: 98471968.0000\n",
      "Epoch 12/50\n",
      "1596/1596 [==============================] - 55s 35ms/step - loss: 98450960.0000 - val_loss: 98471968.0000\n",
      "Epoch 13/50\n",
      "1596/1596 [==============================] - 55s 35ms/step - loss: 98451056.0000 - val_loss: 98471968.0000\n",
      "Epoch 14/50\n",
      "1596/1596 [==============================] - 55s 35ms/step - loss: 98450944.0000 - val_loss: 98472000.0000\n",
      "Epoch 15/50\n",
      "1596/1596 [==============================] - 55s 35ms/step - loss: 98451032.0000 - val_loss: 98471968.0000\n",
      "Epoch 16/50\n",
      "1596/1596 [==============================] - 55s 35ms/step - loss: 98451016.0000 - val_loss: 98471976.0000\n",
      "Epoch 17/50\n",
      "1596/1596 [==============================] - 56s 35ms/step - loss: 98450992.0000 - val_loss: 98471976.0000\n",
      "Epoch 18/50\n",
      "1596/1596 [==============================] - 55s 34ms/step - loss: 98450992.0000 - val_loss: 98471968.0000\n",
      "Epoch 19/50\n",
      "1596/1596 [==============================] - 55s 34ms/step - loss: 98451048.0000 - val_loss: 98471968.0000\n",
      "Epoch 20/50\n",
      "1596/1596 [==============================] - 55s 35ms/step - loss: 98450944.0000 - val_loss: 98471968.0000\n",
      "Epoch 21/50\n",
      "1596/1596 [==============================] - 55s 35ms/step - loss: 98451088.0000 - val_loss: 98471968.0000\n",
      "Epoch 22/50\n",
      "1596/1596 [==============================] - 55s 35ms/step - loss: 98451032.0000 - val_loss: 98471968.0000\n",
      "Epoch 23/50\n",
      "1596/1596 [==============================] - 56s 35ms/step - loss: 98450912.0000 - val_loss: 98471968.0000\n",
      "Epoch 24/50\n",
      "1596/1596 [==============================] - 56s 35ms/step - loss: 98450944.0000 - val_loss: 98471968.0000\n",
      "Epoch 25/50\n",
      "1596/1596 [==============================] - 55s 35ms/step - loss: 98451056.0000 - val_loss: 98471968.0000\n",
      "Epoch 26/50\n",
      "1596/1596 [==============================] - 55s 35ms/step - loss: 98450952.0000 - val_loss: 98471968.0000\n",
      "Epoch 27/50\n",
      "1596/1596 [==============================] - 55s 35ms/step - loss: 98451024.0000 - val_loss: 98471968.0000\n",
      "Epoch 28/50\n",
      "1596/1596 [==============================] - 56s 35ms/step - loss: 98450952.0000 - val_loss: 98471968.0000\n",
      "Epoch 29/50\n",
      "1596/1596 [==============================] - 55s 35ms/step - loss: 98451032.0000 - val_loss: 98471968.0000\n",
      "Epoch 30/50\n",
      "1596/1596 [==============================] - 55s 35ms/step - loss: 98451032.0000 - val_loss: 98471968.0000\n",
      "Epoch 31/50\n",
      "1596/1596 [==============================] - 55s 34ms/step - loss: 98450992.0000 - val_loss: 98471968.0000\n",
      "Epoch 32/50\n",
      "1596/1596 [==============================] - 55s 35ms/step - loss: 98450992.0000 - val_loss: 98471968.0000\n",
      "Epoch 33/50\n",
      "1596/1596 [==============================] - 55s 35ms/step - loss: 98451032.0000 - val_loss: 98471968.0000\n",
      "Epoch 34/50\n",
      "1596/1596 [==============================] - 55s 34ms/step - loss: 98450904.0000 - val_loss: 98471968.0000\n",
      "Epoch 35/50\n",
      "1596/1596 [==============================] - 55s 35ms/step - loss: 98451064.0000 - val_loss: 98471968.0000\n",
      "Epoch 36/50\n",
      "1596/1596 [==============================] - 55s 35ms/step - loss: 98451104.0000 - val_loss: 98471968.0000\n",
      "Epoch 37/50\n",
      "1596/1596 [==============================] - 56s 35ms/step - loss: 98451024.0000 - val_loss: 98471968.0000\n",
      "Epoch 38/50\n",
      "1596/1596 [==============================] - 55s 34ms/step - loss: 98451064.0000 - val_loss: 98471968.0000\n",
      "Epoch 39/50\n",
      "1596/1596 [==============================] - 55s 34ms/step - loss: 98450984.0000 - val_loss: 98471968.0000\n",
      "Epoch 40/50\n",
      "1596/1596 [==============================] - 55s 34ms/step - loss: 98450976.0000 - val_loss: 98471968.0000\n",
      "Epoch 41/50\n",
      "1596/1596 [==============================] - 56s 35ms/step - loss: 98450984.0000 - val_loss: 98471968.0000\n",
      "Epoch 42/50\n",
      "1596/1596 [==============================] - 55s 35ms/step - loss: 98451024.0000 - val_loss: 98471968.0000\n",
      "Epoch 43/50\n",
      "1596/1596 [==============================] - 55s 34ms/step - loss: 98450960.0000 - val_loss: 98471968.0000\n",
      "Epoch 44/50\n",
      "1596/1596 [==============================] - 56s 35ms/step - loss: 98451024.0000 - val_loss: 98471968.0000\n",
      "Epoch 45/50\n",
      "1596/1596 [==============================] - 56s 35ms/step - loss: 98450984.0000 - val_loss: 98471968.0000\n",
      "Epoch 46/50\n",
      "1596/1596 [==============================] - 56s 35ms/step - loss: 98450984.0000 - val_loss: 98471968.0000\n",
      "Epoch 47/50\n",
      "1596/1596 [==============================] - 55s 35ms/step - loss: 98451008.0000 - val_loss: 98471968.0000\n",
      "Epoch 48/50\n",
      "1596/1596 [==============================] - 55s 34ms/step - loss: 98450992.0000 - val_loss: 98471968.0000\n",
      "Epoch 49/50\n",
      "1596/1596 [==============================] - 55s 34ms/step - loss: 98450984.0000 - val_loss: 98471968.0000\n",
      "Epoch 50/50\n",
      "1596/1596 [==============================] - 56s 35ms/step - loss: 98450976.0000 - val_loss: 98471968.0000\n"
     ]
    },
    {
     "data": {
      "image/png": "[encoded data removed]",
      "text/plain": [
       "<Figure size 432x288 with 1 Axes>"
      ]
     },
     "metadata": {
      "needs_background": "light"
     },
     "output_type": "display_data"
    }
   ],
   "source": [
    "history = RNNmodel.fit(X_train, y_train, epochs=epochs, batch_size=1, validation_data=(X_test, y_test))\n",
    "\n",
    "plt.plot(history.history[\"loss\"])\n",
    "plt.plot(history.history[\"val_loss\"])\n",
    "plt.title(\"LOSS\")\n",
    "plt.legend([\"TRAIN\" , \"TEST\"])\n",
    "plt.show()"
   ]
  },
  {
   "cell_type": "code",
   "execution_count": 11,
   "id": "29dae7fc",
   "metadata": {},
   "outputs": [
    {
     "name": "stdout",
     "output_type": "stream",
     "text": [
      "13/13 [==============================] - 0s 15ms/step\n"
     ]
    },
    {
     "data": {
      "image/png": "[encoded data removed]",
      "text/plain": [
       "<Figure size 432x288 with 1 Axes>"
      ]
     },
     "metadata": {
      "needs_background": "light"
     },
     "output_type": "display_data"
    }
   ],
   "source": [
    "y_pred = RNNmodel.predict(X_test)\n",
    "x = np.arange(399)\n",
    "plt.figure()\n",
    "plt.plot(x,y_test, '.')\n",
    "plt.plot(x,y_pred, '.')\n",
    "plt.legend([\"Truth\", \"Predicted\"], loc =\"upper right\")\n",
    "plt.title(\"Regression results with RNN\")\n",
    "plt.show()"
   ]
  },
  {
   "cell_type": "code",
   "execution_count": 12,
   "id": "f246f13d",
   "metadata": {},
   "outputs": [],
   "source": [
    "# Add attention layer to the model\n",
    "class attention(Layer):\n",
    "    def __init__(self,**kwargs):\n",
    "        super(attention,self).__init__(**kwargs)\n",
    "\n",
    "    def build(self,input_shape):\n",
    "        self.W=self.add_weight(name='attention_weight', shape=(input_shape[-1],1), \n",
    "                               initializer='random_normal', trainable=True)\n",
    "        self.b=self.add_weight(name='attention_bias', shape=(input_shape[1],1), \n",
    "                               initializer='zeros', trainable=True)        \n",
    "        super(attention, self).build(input_shape)\n",
    "\n",
    "    def call(self,x):\n",
    "        # Alignment scores. Pass them through tanh function\n",
    "        e = K.tanh(K.dot(x,self.W)+self.b)\n",
    "        # Remove dimension of size 1\n",
    "        e = K.squeeze(e, axis=-1)   \n",
    "        # Compute the weights\n",
    "        alpha = K.softmax(e)\n",
    "        # Reshape to tensorFlow format\n",
    "        alpha = K.expand_dims(alpha, axis=-1)\n",
    "        # Compute the context vector\n",
    "        context = x * alpha\n",
    "        context = K.sum(context, axis=1)\n",
    "        return context\n",
    "    \n",
    "def create_RNN_with_attention(hidden_units, dense_units, input_shape, activation):\n",
    "    x=Input(shape=input_shape)\n",
    "    RNN_layer = SimpleRNN(hidden_units, return_sequences=True, activation=activation)(x)\n",
    "    attention_layer = attention()(RNN_layer)\n",
    "    outputs=Dense(dense_units, trainable=True, activation=activation)(attention_layer)\n",
    "    model=Model(x,outputs)\n",
    "    model.compile(loss='mse', optimizer='adam')    \n",
    "    return model    "
   ]
  },
  {
   "cell_type": "code",
   "execution_count": 13,
   "id": "860e8935",
   "metadata": {},
   "outputs": [
    {
     "name": "stdout",
     "output_type": "stream",
     "text": [
      "Model: \"model\"\n",
      "_________________________________________________________________\n",
      " Layer (type)                Output Shape              Param #   \n",
      "=================================================================\n",
      " input_1 (InputLayer)        [(None, 185, 1)]          0         \n",
      "                                                                 \n",
      " simple_rnn_2 (SimpleRNN)    (None, 185, 2)            8         \n",
      "                                                                 \n",
      " attention (attention)       (None, 2)                 187       \n",
      "                                                                 \n",
      " dense_2 (Dense)             (None, 1)                 3         \n",
      "                                                                 \n",
      "=================================================================\n",
      "Total params: 198\n",
      "Trainable params: 198\n",
      "Non-trainable params: 0\n",
      "_________________________________________________________________\n",
      "Epoch 1/50\n",
      "1596/1596 [==============================] - 77s 48ms/step - loss: 98454096.0000 - val_loss: 98472472.0000\n",
      "Epoch 2/50\n",
      "1596/1596 [==============================] - 76s 48ms/step - loss: 98451264.0000 - val_loss: 98472104.0000\n",
      "Epoch 3/50\n",
      "1596/1596 [==============================] - 76s 47ms/step - loss: 98451216.0000 - val_loss: 98472008.0000\n",
      "Epoch 4/50\n",
      "1596/1596 [==============================] - 77s 48ms/step - loss: 98451080.0000 - val_loss: 98472008.0000\n",
      "Epoch 5/50\n",
      "1596/1596 [==============================] - 77s 48ms/step - loss: 98451024.0000 - val_loss: 98471968.0000\n",
      "Epoch 6/50\n",
      "1596/1596 [==============================] - 77s 48ms/step - loss: 98451008.0000 - val_loss: 98471968.0000\n",
      "Epoch 7/50\n",
      "1596/1596 [==============================] - 76s 48ms/step - loss: 98451080.0000 - val_loss: 98471968.0000\n",
      "Epoch 8/50\n",
      "1596/1596 [==============================] - 76s 47ms/step - loss: 98450976.0000 - val_loss: 98471968.0000\n",
      "Epoch 9/50\n",
      "1596/1596 [==============================] - 76s 48ms/step - loss: 98451088.0000 - val_loss: 98471968.0000\n",
      "Epoch 10/50\n",
      "1596/1596 [==============================] - 76s 48ms/step - loss: 98451048.0000 - val_loss: 98471968.0000\n",
      "Epoch 11/50\n",
      "1596/1596 [==============================] - 76s 48ms/step - loss: 98451024.0000 - val_loss: 98471968.0000\n",
      "Epoch 12/50\n",
      "1596/1596 [==============================] - 76s 48ms/step - loss: 98451024.0000 - val_loss: 98471968.0000\n",
      "Epoch 13/50\n",
      "1596/1596 [==============================] - 76s 48ms/step - loss: 98451056.0000 - val_loss: 98471968.0000\n",
      "Epoch 14/50\n",
      "1596/1596 [==============================] - 76s 48ms/step - loss: 98450960.0000 - val_loss: 98471968.0000\n",
      "Epoch 15/50\n",
      "1596/1596 [==============================] - 75s 47ms/step - loss: 98451048.0000 - val_loss: 98471968.0000\n",
      "Epoch 16/50\n",
      "1596/1596 [==============================] - 76s 48ms/step - loss: 98451048.0000 - val_loss: 98471968.0000\n",
      "Epoch 17/50\n",
      "1596/1596 [==============================] - 76s 48ms/step - loss: 98451056.0000 - val_loss: 98471968.0000\n",
      "Epoch 18/50\n",
      "1596/1596 [==============================] - 76s 47ms/step - loss: 98450920.0000 - val_loss: 98471968.0000\n",
      "Epoch 19/50\n",
      "1596/1596 [==============================] - 76s 48ms/step - loss: 98451024.0000 - val_loss: 98471968.0000\n",
      "Epoch 20/50\n",
      "1596/1596 [==============================] - 76s 48ms/step - loss: 98451008.0000 - val_loss: 98471968.0000\n",
      "Epoch 21/50\n",
      "1596/1596 [==============================] - 76s 48ms/step - loss: 98451016.0000 - val_loss: 98471968.0000\n",
      "Epoch 22/50\n",
      "1596/1596 [==============================] - 76s 48ms/step - loss: 98451064.0000 - val_loss: 98471968.0000\n",
      "Epoch 23/50\n",
      "1596/1596 [==============================] - 76s 48ms/step - loss: 98451056.0000 - val_loss: 98471968.0000\n",
      "Epoch 24/50\n",
      "1596/1596 [==============================] - 76s 48ms/step - loss: 98450944.0000 - val_loss: 98471968.0000\n",
      "Epoch 25/50\n",
      "1596/1596 [==============================] - 76s 48ms/step - loss: 98451080.0000 - val_loss: 98471968.0000\n",
      "Epoch 26/50\n",
      "1596/1596 [==============================] - 77s 48ms/step - loss: 98450944.0000 - val_loss: 98471968.0000\n",
      "Epoch 27/50\n",
      "1596/1596 [==============================] - 77s 48ms/step - loss: 98451032.0000 - val_loss: 98471968.0000\n",
      "Epoch 28/50\n",
      "1596/1596 [==============================] - 76s 48ms/step - loss: 98450936.0000 - val_loss: 98471968.0000\n",
      "Epoch 29/50\n",
      "1596/1596 [==============================] - 76s 48ms/step - loss: 98450960.0000 - val_loss: 98471968.0000\n",
      "Epoch 30/50\n",
      "1596/1596 [==============================] - 77s 48ms/step - loss: 98451008.0000 - val_loss: 98471968.0000\n",
      "Epoch 31/50\n",
      "1596/1596 [==============================] - 76s 48ms/step - loss: 98450952.0000 - val_loss: 98471968.0000\n",
      "Epoch 32/50\n",
      "1596/1596 [==============================] - 76s 48ms/step - loss: 98451096.0000 - val_loss: 98471968.0000\n",
      "Epoch 33/50\n",
      "1596/1596 [==============================] - 77s 48ms/step - loss: 98450952.0000 - val_loss: 98471968.0000\n",
      "Epoch 34/50\n",
      "1596/1596 [==============================] - 76s 48ms/step - loss: 98450992.0000 - val_loss: 98471968.0000\n",
      "Epoch 35/50\n",
      "1596/1596 [==============================] - 76s 47ms/step - loss: 98450976.0000 - val_loss: 98471968.0000\n",
      "Epoch 36/50\n",
      "1596/1596 [==============================] - 76s 48ms/step - loss: 98451024.0000 - val_loss: 98471968.0000\n",
      "Epoch 37/50\n",
      "1596/1596 [==============================] - 76s 48ms/step - loss: 98451032.0000 - val_loss: 98471968.0000\n",
      "Epoch 38/50\n",
      "1596/1596 [==============================] - 76s 48ms/step - loss: 98450936.0000 - val_loss: 98471968.0000\n",
      "Epoch 39/50\n",
      "1596/1596 [==============================] - 76s 48ms/step - loss: 98450960.0000 - val_loss: 98471968.0000\n",
      "Epoch 40/50\n",
      "1596/1596 [==============================] - 76s 48ms/step - loss: 98451024.0000 - val_loss: 98471968.0000\n",
      "Epoch 41/50\n",
      "1596/1596 [==============================] - 77s 48ms/step - loss: 98450944.0000 - val_loss: 98471968.0000\n",
      "Epoch 42/50\n",
      "1596/1596 [==============================] - 76s 48ms/step - loss: 98451080.0000 - val_loss: 98471968.0000\n",
      "Epoch 43/50\n",
      "1596/1596 [==============================] - 76s 48ms/step - loss: 98451008.0000 - val_loss: 98471968.0000\n",
      "Epoch 44/50\n",
      "1596/1596 [==============================] - 75s 47ms/step - loss: 98450880.0000 - val_loss: 98471968.0000\n",
      "Epoch 45/50\n",
      "1596/1596 [==============================] - 76s 48ms/step - loss: 98451008.0000 - val_loss: 98471968.0000\n",
      "Epoch 46/50\n",
      "1596/1596 [==============================] - 76s 48ms/step - loss: 98451056.0000 - val_loss: 98471968.0000\n",
      "Epoch 47/50\n",
      "1596/1596 [==============================] - 76s 47ms/step - loss: 98451008.0000 - val_loss: 98471968.0000\n",
      "Epoch 48/50\n",
      "1596/1596 [==============================] - 76s 48ms/step - loss: 98451024.0000 - val_loss: 98471968.0000\n",
      "Epoch 49/50\n",
      "1596/1596 [==============================] - 76s 48ms/step - loss: 98450936.0000 - val_loss: 98471968.0000\n",
      "Epoch 50/50\n",
      "1596/1596 [==============================] - 76s 48ms/step - loss: 98450992.0000 - val_loss: 98471968.0000\n"
     ]
    },
    {
     "data": {
      "text/plain": [
       "<keras.callbacks.History at 0x7f11c0120070>"
      ]
     },
     "execution_count": 13,
     "metadata": {},
     "output_type": "execute_result"
    }
   ],
   "source": [
    "# Create the model with attention, train and evaluate\n",
    "model_attention = create_RNN_with_attention(hidden_units=hidden_units, dense_units=1, \n",
    "                                  input_shape=(time_steps,1), activation='tanh')\n",
    "model_attention.summary()    \n",
    "model_attention.fit(X_train, y_train, epochs=epochs, batch_size=1, validation_data=(X_test, y_test))"
   ]
  },
  {
   "cell_type": "code",
   "execution_count": 15,
   "id": "9ac43d43",
   "metadata": {},
   "outputs": [
    {
     "name": "stdout",
     "output_type": "stream",
     "text": [
      "13/13 [==============================] - 0s 15ms/step\n"
     ]
    },
    {
     "data": {
      "image/png": "[encoded data removed]",
      "text/plain": [
       "<Figure size 432x288 with 1 Axes>"
      ]
     },
     "metadata": {
      "needs_background": "light"
     },
     "output_type": "display_data"
    }
   ],
   "source": [
    "y_pred = RNNmodel.predict(X_test)\n",
    "x = np.arange(399)\n",
    "plt.figure()\n",
    "plt.plot(x,y_test, '.')\n",
    "plt.plot(x,y_pred, '.')\n",
    "plt.legend([\"Truth\", \"Predicted\"], loc =\"upper right\")\n",
    "plt.title(\"Regression results with RNN+Attention\")\n",
    "plt.show()"
   ]
  },
  {
   "cell_type": "code",
   "execution_count": null,
   "id": "e0cbcf76",
   "metadata": {},
   "outputs": [],
   "source": []
  }
 ],
 "metadata": {
  "kernelspec": {
   "display_name": "Python 3 (ipykernel)",
   "language": "python",
   "name": "python3"
  },
  "language_info": {
   "codemirror_mode": {
    "name": "ipython",
    "version": 3
   },
   "file_extension": ".py",
   "mimetype": "text/x-python",
   "name": "python",
   "nbconvert_exporter": "python",
   "pygments_lexer": "ipython3",
   "version": "3.8.10"
  }
 },
 "nbformat": 4,
 "nbformat_minor": 5
}
