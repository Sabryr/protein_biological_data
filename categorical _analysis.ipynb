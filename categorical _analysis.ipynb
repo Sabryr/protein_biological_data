{
 "cells": [
  {
   "cell_type": "code",
   "execution_count": 1,
   "id": "db68d527",
   "metadata": {},
   "outputs": [
    {
     "name": "stderr",
     "output_type": "stream",
     "text": [
      "2023-01-13 18:42:09.617072: I tensorflow/core/platform/cpu_feature_guard.cc:193] This TensorFlow binary is optimized with oneAPI Deep Neural Network Library (oneDNN) to use the following CPU instructions in performance-critical operations:  AVX2 FMA\n",
      "To enable them in other operations, rebuild TensorFlow with the appropriate compiler flags.\n",
      "2023-01-13 18:42:09.724315: E tensorflow/stream_executor/cuda/cuda_blas.cc:2981] Unable to register cuBLAS factory: Attempting to register factory for plugin cuBLAS when one has already been registered\n",
      "2023-01-13 18:42:10.702554: W tensorflow/stream_executor/platform/default/dso_loader.cc:64] Could not load dynamic library 'libnvinfer.so.7'; dlerror: libnvinfer.so.7: cannot open shared object file: No such file or directory\n",
      "2023-01-13 18:42:10.702617: W tensorflow/stream_executor/platform/default/dso_loader.cc:64] Could not load dynamic library 'libnvinfer_plugin.so.7'; dlerror: libnvinfer_plugin.so.7: cannot open shared object file: No such file or directory\n",
      "2023-01-13 18:42:10.702624: W tensorflow/compiler/tf2tensorrt/utils/py_utils.cc:38] TF-TRT Warning: Cannot dlopen some TensorRT libraries. If you would like to use Nvidia GPU with TensorRT, please make sure the missing libraries mentioned above are installed properly.\n"
     ]
    }
   ],
   "source": [
    "import pandas as pd\n",
    "import numpy as np\n",
    "import matplotlib.pyplot as plt\n",
    "from sklearn.preprocessing import normalize\n",
    "from sklearn.feature_extraction.text import CountVectorizer\n",
    "from sklearn.model_selection import train_test_split\n",
    "\n",
    "import tensorflow as tf\n",
    "import tensorflow.keras as keras\n",
    "from keras.models import Sequential\n",
    "from keras.layers import Dense\n",
    "from keras.layers import LSTM\n",
    "from keras.layers import Bidirectional\n",
    "from keras.layers import Dropout"
   ]
  },
  {
   "cell_type": "code",
   "execution_count": 2,
   "id": "cfd6fcba",
   "metadata": {},
   "outputs": [],
   "source": [
    "biological_data = pd.read_csv(\"biological_data.csv\").drop('Unnamed: 0', axis=1)"
   ]
  },
  {
   "cell_type": "code",
   "execution_count": 3,
   "id": "fec18ca4",
   "metadata": {},
   "outputs": [],
   "source": [
    "# function to convert sequence strings into k-mer words, default size = 6 (hexamer words)\n",
    "def getKmers(sequence, size=6):\n",
    "    return [sequence[x:x+size].lower() for x in range(len(sequence) - size + 1)]"
   ]
  },
  {
   "cell_type": "code",
   "execution_count": 4,
   "id": "624dc518",
   "metadata": {},
   "outputs": [],
   "source": [
    "human_data = biological_data.copy()"
   ]
  },
  {
   "cell_type": "code",
   "execution_count": 5,
   "id": "48d1e0e2",
   "metadata": {},
   "outputs": [],
   "source": [
    "human_data['X2'] = human_data.apply(lambda x: getKmers(x['X2']), axis=1)\n",
    "human_data['X3'] = human_data.apply(lambda x: getKmers(x['X3']), axis=1)"
   ]
  },
  {
   "cell_type": "code",
   "execution_count": 6,
   "id": "db95a2e6",
   "metadata": {},
   "outputs": [
    {
     "data": {
      "text/plain": [
       "0       [xshsmr, shsmry, hsmryf, smryfs, mryfst, ryfst...\n",
       "1       [xshsmr, shsmry, hsmryf, smryfs, mryfst, ryfst...\n",
       "2       [xshsmr, shsmry, hsmryf, smryfs, mryfst, ryfst...\n",
       "3       [xshsmr, shsmry, hsmryf, smryfs, mryfst, ryfst...\n",
       "4       [xshsmr, shsmry, hsmryf, smryfs, mryfst, ryfst...\n",
       "                              ...                        \n",
       "1990    [xshsmr, shsmry, hsmryf, smryfd, mryfdt, ryfdt...\n",
       "1991    [xshsmr, shsmry, hsmryf, smryfd, mryfdt, ryfdt...\n",
       "1992    [xshsmr, shsmry, hsmryf, smryfy, mryfyt, ryfyt...\n",
       "1993    [xshsmr, shsmry, hsmryf, smryfy, mryfyt, ryfyt...\n",
       "1994    [xshsmr, shsmry, hsmryf, smryfy, mryfyt, ryfyt...\n",
       "Name: X2, Length: 1995, dtype: object"
      ]
     },
     "execution_count": 6,
     "metadata": {},
     "output_type": "execute_result"
    }
   ],
   "source": [
    "human_data['X2']"
   ]
  },
  {
   "cell_type": "code",
   "execution_count": 7,
   "id": "eff4db61",
   "metadata": {},
   "outputs": [],
   "source": [
    "human_data_X2 = list(human_data['X2'])\n",
    "human_data_X3 = list(human_data['X3'])\n",
    "for item in range(len(human_data)):\n",
    "    human_data_X2[item] = ' '.join(human_data_X2[item])\n",
    "    human_data_X3[item] = ' '.join(human_data_X3[item])\n"
   ]
  },
  {
   "cell_type": "code",
   "execution_count": 8,
   "id": "333d05e6",
   "metadata": {},
   "outputs": [],
   "source": [
    "human_data.loc[human_data['Y'] < 50, 'Y'] = 0\n",
    "human_data.loc[human_data['Y'] > 50, 'Y'] = 1"
   ]
  },
  {
   "cell_type": "code",
   "execution_count": 10,
   "id": "ce2d80b4",
   "metadata": {},
   "outputs": [],
   "source": [
    "y_data = human_data.iloc[:, 0].values "
   ]
  },
  {
   "cell_type": "code",
   "execution_count": 13,
   "id": "1821e8c3",
   "metadata": {},
   "outputs": [],
   "source": [
    "X4 = human_data['X4'].values.reshape(-1,1)\n",
    "X5 = human_data['X5'].values.reshape(-1,1)\n",
    "X6 = human_data['X6'].values.reshape(-1,1)\n",
    "\n",
    "X4X5X6 = np.concatenate((X4,X5,X6), axis=1)"
   ]
  },
  {
   "cell_type": "code",
   "execution_count": 14,
   "id": "49dea6a4",
   "metadata": {},
   "outputs": [],
   "source": [
    "X_train, X_test, y_train, y_test = train_test_split(X4X5X6, y_data, test_size = 0.20, random_state=42)"
   ]
  },
  {
   "cell_type": "code",
   "execution_count": null,
   "id": "e38fd858",
   "metadata": {},
   "outputs": [],
   "source": [
    "DNNmodel = Sequential()\n",
    "DNNmodel.add(Dense(100, input_dim=X_train.shape[1], activation='relu'))\n",
    "DNNmodel.add(Dropout(0.7))\n",
    "DNNmodel.add(Dense(20, activation='relu'))\n",
    "DNNmodel.add(Dropout(0.7))\n",
    "DNNmodel.add(Dense(4, activation='relu'))\n",
    "DNNmodel.add(Dropout(0.7))\n",
    "DNNmodel.add(Dense(1, activation='sigmoid'))\n",
    "\n",
    "history = DNNmodel.compile(loss='binary_crossentropy', optimizer='adam', metrics=['accuracy'])"
   ]
  },
  {
   "cell_type": "code",
   "execution_count": null,
   "id": "d7060401",
   "metadata": {},
   "outputs": [],
   "source": [
    "history = DNNmodel.fit(X_train, y_train, epochs=1000, batch_size=8, validation_data=(X_test, y_test))"
   ]
  },
  {
   "cell_type": "code",
   "execution_count": null,
   "id": "3f7a70db",
   "metadata": {},
   "outputs": [],
   "source": [
    "y_pred = DNNmodel.predict(X_test)"
   ]
  },
  {
   "cell_type": "code",
   "execution_count": null,
   "id": "9efe1604",
   "metadata": {},
   "outputs": [],
   "source": [
    "x = np.arange(399)\n",
    "plt.figure(figsize=(15,3))\n",
    "plt.scatter(x,y_test,label=\"Truth\")\n",
    "plt.scatter(x,y_pred,label=\"DNN\")\n",
    "plt.legend('test data')\n",
    "plt.show()"
   ]
  },
  {
   "cell_type": "code",
   "execution_count": null,
   "id": "64fce787",
   "metadata": {},
   "outputs": [],
   "source": [
    "plt.plot(history.history[\"loss\"])\n",
    "plt.plot(history.history[\"val_loss\"])\n",
    "plt.title(\"LOSS\")\n",
    "plt.legend([\"TRAIN\" , \"TEST\"])\n",
    "plt.show()"
   ]
  },
  {
   "cell_type": "code",
   "execution_count": null,
   "id": "95f53e53",
   "metadata": {},
   "outputs": [],
   "source": [
    "score = DNNmodel.evaluate(X_test, y_test, verbose=0)\n",
    "print('Test loss:', score[0])\n",
    "print('Test accuracy:', score[1])"
   ]
  },
  {
   "cell_type": "code",
   "execution_count": null,
   "id": "51069763",
   "metadata": {},
   "outputs": [],
   "source": [
    "# DNN X4,X5,X6"
   ]
  },
  {
   "cell_type": "code",
   "execution_count": null,
   "id": "e186630d",
   "metadata": {},
   "outputs": [],
   "source": [
    "DNNmodel = Sequential()\n",
    "DNNmodel.add(Dense(3, input_dim=X_train.shape[1], activation='relu'))\n",
    "DNNmodel.add(Dropout(0.7))\n",
    "DNNmodel.add(Dense(2, activation='relu'))\n",
    "DNNmodel.add(Dropout(0.7))\n",
    "DNNmodel.add(Dense(1, activation='sigmoid'))\n",
    "\n",
    "history = DNNmodel.compile(loss='binary_crossentropy', optimizer='adam', metrics=['accuracy'])"
   ]
  },
  {
   "cell_type": "code",
   "execution_count": null,
   "id": "890840f1",
   "metadata": {},
   "outputs": [],
   "source": [
    "history = DNNmodel.fit(X_train, y_train, epochs=1000, batch_size=64, validation_data=(X_test, y_test))"
   ]
  },
  {
   "cell_type": "code",
   "execution_count": null,
   "id": "9dab03c4",
   "metadata": {},
   "outputs": [],
   "source": [
    "y_pred = DNNmodel.predict(X_test)"
   ]
  },
  {
   "cell_type": "code",
   "execution_count": null,
   "id": "c715d10b",
   "metadata": {},
   "outputs": [],
   "source": [
    "plt.figure(figsize=(15,3))\n",
    "plt.scatter(x,y_test,label=\"Truth\")\n",
    "plt.scatter(x,y_pred,label=\"DNN\")\n",
    "plt.legend('test data')\n",
    "plt.show()"
   ]
  },
  {
   "cell_type": "code",
   "execution_count": null,
   "id": "b4a451e2",
   "metadata": {},
   "outputs": [],
   "source": [
    "plt.plot(history.history[\"loss\"])\n",
    "plt.plot(history.history[\"val_loss\"])\n",
    "plt.title(\"LOSS\")\n",
    "plt.legend([\"TRAIN\" , \"TEST\"])\n",
    "plt.show()"
   ]
  },
  {
   "cell_type": "code",
   "execution_count": null,
   "id": "6d8c8469",
   "metadata": {},
   "outputs": [],
   "source": [
    "score = DNNmodel.evaluate(X_test, y_test, verbose=0)\n",
    "print('Test loss:', score[0])\n",
    "print('Test accuracy:', score[1])"
   ]
  },
  {
   "cell_type": "code",
   "execution_count": null,
   "id": "b1e43376",
   "metadata": {},
   "outputs": [],
   "source": [
    "###### SVM ######"
   ]
  },
  {
   "cell_type": "code",
   "execution_count": 24,
   "id": "f705ab30",
   "metadata": {},
   "outputs": [
    {
     "data": {
      "text/plain": [
       "array([[ 93.44444444, 114.77777778, -25.11111111],\n",
       "       [ 63.11111111,  91.11111111, -14.55555556],\n",
       "       [ 81.        , 106.22222222,  -7.22222222],\n",
       "       ...,\n",
       "       [ 85.33333333, 109.77777778, -11.        ],\n",
       "       [ 79.27777778, 106.22222222, -22.22222222],\n",
       "       [101.05555556, 120.22222222, -40.44444444]])"
      ]
     },
     "execution_count": 24,
     "metadata": {},
     "output_type": "execute_result"
    }
   ],
   "source": [
    "X_train"
   ]
  },
  {
   "cell_type": "code",
   "execution_count": 25,
   "id": "93816aea",
   "metadata": {},
   "outputs": [],
   "source": [
    "X_train = normalize(X_train, axis=1, norm='l1')"
   ]
  },
  {
   "cell_type": "code",
   "execution_count": 26,
   "id": "f92e074b",
   "metadata": {},
   "outputs": [
    {
     "data": {
      "text/plain": [
       "array([[ 0.40047619,  0.49190476, -0.10761905],\n",
       "       [ 0.37393022,  0.53982883, -0.08624095],\n",
       "       [ 0.41657143,  0.54628571, -0.03714286],\n",
       "       ...,\n",
       "       [ 0.41401617,  0.53261456, -0.05336927],\n",
       "       [ 0.38165285,  0.51136668, -0.10698048],\n",
       "       [ 0.3861176 ,  0.45935046, -0.15453195]])"
      ]
     },
     "execution_count": 26,
     "metadata": {},
     "output_type": "execute_result"
    }
   ],
   "source": [
    "X_train"
   ]
  },
  {
   "cell_type": "code",
   "execution_count": 29,
   "id": "46d7b468",
   "metadata": {},
   "outputs": [],
   "source": [
    "from sklearn.metrics import confusion_matrix\n",
    "from sklearn.metrics import precision_score, recall_score, f1_score, accuracy_score\n",
    "from sklearn.metrics import classification_report\n",
    "from sklearn.svm import SVC\n",
    "from sklearn.neural_network import MLPClassifier"
   ]
  },
  {
   "cell_type": "code",
   "execution_count": 30,
   "id": "d67c509c",
   "metadata": {},
   "outputs": [],
   "source": [
    "# Support Vector Machine\n",
    "#Defining SVM kernel ()\n",
    "kernels = ['linear', 'poly', 'rbf', 'sigmoid']\n",
    "\n",
    "model = SVC(kernel = kernels[2]) #RBF kernel\n",
    "#Training the model\n",
    "model.fit(X_train, y_train)\n",
    "\n",
    "#Testing the model\n",
    "y_pred = model.predict(X_test)"
   ]
  },
  {
   "cell_type": "code",
   "execution_count": 31,
   "id": "8ab774dd",
   "metadata": {},
   "outputs": [
    {
     "data": {
      "image/png": "[encoded data removed]",
      "text/plain": [
       "<Figure size 360x360 with 1 Axes>"
      ]
     },
     "metadata": {
      "needs_background": "light"
     },
     "output_type": "display_data"
    },
    {
     "name": "stdout",
     "output_type": "stream",
     "text": [
      "SVM:\n",
      "\n",
      "               precision    recall  f1-score   support\n",
      "\n",
      "           0       0.00      0.00      0.00       103\n",
      "           1       0.74      1.00      0.85       296\n",
      "\n",
      "    accuracy                           0.74       399\n",
      "   macro avg       0.37      0.50      0.43       399\n",
      "weighted avg       0.55      0.74      0.63       399\n",
      "\n"
     ]
    },
    {
     "name": "stderr",
     "output_type": "stream",
     "text": [
      "/home/stipendiater/mohamadi/.local/lib/python3.8/site-packages/sklearn/metrics/_classification.py:1327: UndefinedMetricWarning: Precision and F-score are ill-defined and being set to 0.0 in labels with no predicted samples. Use `zero_division` parameter to control this behavior.\n",
      "  _warn_prf(average, modifier, msg_start, len(result))\n",
      "/home/stipendiater/mohamadi/.local/lib/python3.8/site-packages/sklearn/metrics/_classification.py:1327: UndefinedMetricWarning: Precision and F-score are ill-defined and being set to 0.0 in labels with no predicted samples. Use `zero_division` parameter to control this behavior.\n",
      "  _warn_prf(average, modifier, msg_start, len(result))\n",
      "/home/stipendiater/mohamadi/.local/lib/python3.8/site-packages/sklearn/metrics/_classification.py:1327: UndefinedMetricWarning: Precision and F-score are ill-defined and being set to 0.0 in labels with no predicted samples. Use `zero_division` parameter to control this behavior.\n",
      "  _warn_prf(average, modifier, msg_start, len(result))\n"
     ]
    }
   ],
   "source": [
    "#Calculating and ploting the confusion matrix\n",
    "conf_matrix = confusion_matrix(y_true=y_test, y_pred=y_pred)\n",
    "fig, ax = plt.subplots(figsize=(5, 5))\n",
    "ax.matshow(conf_matrix, cmap=plt.cm.Oranges, alpha=0.4)\n",
    "for i in range(conf_matrix.shape[0]):\n",
    "    for j in range(conf_matrix.shape[1]):\n",
    "        ax.text(x=j, y=i,s=conf_matrix[i, j], va='center', ha='center', size='x-large')\n",
    "\n",
    "plt.xlabel('Predictions', fontsize=12)\n",
    "plt.ylabel('Actuals', fontsize=12)\n",
    "plt.title('SVM Confusion Matrix', fontsize=12)\n",
    "plt.show()\n",
    "\n",
    "#Reporting the results\n",
    "Precision = precision_score(y_test, y_pred)\n",
    "Recall = recall_score(y_test, y_pred)\n",
    "F1_score = f1_score(y_test, y_pred)\n",
    "Accuracy = accuracy_score(y_test, y_pred)\n",
    "print('SVM:\\n\\n',classification_report(y_test,y_pred))"
   ]
  },
  {
   "cell_type": "code",
   "execution_count": 33,
   "id": "6eb22948",
   "metadata": {},
   "outputs": [
    {
     "data": {
      "image/png": "[encoded data removed]",
      "text/plain": [
       "<Figure size 360x360 with 1 Axes>"
      ]
     },
     "metadata": {
      "needs_background": "light"
     },
     "output_type": "display_data"
    },
    {
     "name": "stdout",
     "output_type": "stream",
     "text": [
      "MLP Results:\n",
      "\n",
      "               precision    recall  f1-score   support\n",
      "\n",
      "           0       0.00      0.00      0.00       103\n",
      "           1       0.74      1.00      0.85       296\n",
      "\n",
      "    accuracy                           0.74       399\n",
      "   macro avg       0.37      0.50      0.43       399\n",
      "weighted avg       0.55      0.74      0.63       399\n",
      "\n"
     ]
    },
    {
     "name": "stderr",
     "output_type": "stream",
     "text": [
      "/home/stipendiater/mohamadi/.local/lib/python3.8/site-packages/sklearn/metrics/_classification.py:1327: UndefinedMetricWarning: Precision and F-score are ill-defined and being set to 0.0 in labels with no predicted samples. Use `zero_division` parameter to control this behavior.\n",
      "  _warn_prf(average, modifier, msg_start, len(result))\n",
      "/home/stipendiater/mohamadi/.local/lib/python3.8/site-packages/sklearn/metrics/_classification.py:1327: UndefinedMetricWarning: Precision and F-score are ill-defined and being set to 0.0 in labels with no predicted samples. Use `zero_division` parameter to control this behavior.\n",
      "  _warn_prf(average, modifier, msg_start, len(result))\n",
      "/home/stipendiater/mohamadi/.local/lib/python3.8/site-packages/sklearn/metrics/_classification.py:1327: UndefinedMetricWarning: Precision and F-score are ill-defined and being set to 0.0 in labels with no predicted samples. Use `zero_division` parameter to control this behavior.\n",
      "  _warn_prf(average, modifier, msg_start, len(result))\n"
     ]
    }
   ],
   "source": [
    "# Multi Layer Perceptron (MLP)\n",
    "NN = MLPClassifier(solver='adam', alpha=1e-3, hidden_layer_sizes=(15, 2), activation='relu', random_state=1, batch_size= 16, max_iter =10000)\n",
    "#solver = ['lbfgs', 'sgd', 'adam'], default='adam'\n",
    "#activation = ['identity', 'logistic', 'tanh', 'relu'], default=’relu’\n",
    "NN.fit(X_train, y_train)\n",
    "y_pred = NN.predict(X_test)\n",
    "\n",
    "#Reporting the results\n",
    "#Calculating and ploting the confusion matrix\n",
    "conf_matrix = confusion_matrix(y_true=y_test, y_pred=y_pred)\n",
    "fig, ax = plt.subplots(figsize=(5, 5))\n",
    "ax.matshow(conf_matrix, cmap=plt.cm.Oranges, alpha=0.4)\n",
    "for i in range(conf_matrix.shape[0]):\n",
    "    for j in range(conf_matrix.shape[1]):\n",
    "        ax.text(x=j, y=i,s=conf_matrix[i, j], va='center', ha='center', size='x-large')\n",
    "\n",
    "plt.xlabel('Predictions', fontsize=12)\n",
    "plt.ylabel('Actuals', fontsize=12)\n",
    "plt.title('MLP Regression Confusion Matrix', fontsize=12)\n",
    "plt.show()\n",
    "\n",
    "print('MLP Results:\\n\\n',classification_report(y_test,y_pred))"
   ]
  },
  {
   "cell_type": "code",
   "execution_count": null,
   "id": "0164b824",
   "metadata": {},
   "outputs": [],
   "source": []
  }
 ],
 "metadata": {
  "kernelspec": {
   "display_name": "Python 3 (ipykernel)",
   "language": "python",
   "name": "python3"
  },
  "language_info": {
   "codemirror_mode": {
    "name": "ipython",
    "version": 3
   },
   "file_extension": ".py",
   "mimetype": "text/x-python",
   "name": "python",
   "nbconvert_exporter": "python",
   "pygments_lexer": "ipython3",
   "version": "3.8.10"
  }
 },
 "nbformat": 4,
 "nbformat_minor": 5
}
